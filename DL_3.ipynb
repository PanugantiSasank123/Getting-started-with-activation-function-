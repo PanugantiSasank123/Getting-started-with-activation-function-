{
  "cells": [
    {
      "cell_type": "markdown",
      "source": [
        "Getting started with activation function\n",
        "https://github.com/PanugantiSasank123/Getting-started-with-activation-function-"
      ],
      "metadata": {
        "id": "ahmytaMV2mKm"
      }
    },
    {
      "cell_type": "code",
      "execution_count": 1,
      "metadata": {
        "id": "DkxUWzy3olhQ"
      },
      "outputs": [],
      "source": [
        "import numpy as np\n",
        "import pandas as pd\n",
        "from sklearn.model_selection import train_test_split\n",
        "import matplotlib.pyplot as plt\n",
        "import tensorflow as tf"
      ]
    },
    {
      "cell_type": "code",
      "execution_count": 2,
      "metadata": {
        "id": "oKqgMcstqPpl"
      },
      "outputs": [],
      "source": [
        "from keras.models import Sequential\n",
        "from keras.layers import Dense\n",
        "from keras.layers import Dropout\n",
        "from tensorflow.keras.utils import to_categorical\n",
        "from keras.callbacks import Callback"
      ]
    },
    {
      "cell_type": "code",
      "execution_count": 3,
      "metadata": {
        "id": "toCbeU-wpl9j",
        "colab": {
          "base_uri": "https://localhost:8080/",
          "height": 0
        },
        "outputId": "3883fae0-df2d-422a-d17d-1de48cbdcb6e"
      },
      "outputs": [
        {
          "output_type": "stream",
          "name": "stdout",
          "text": [
            "Downloading data from https://storage.googleapis.com/tensorflow/tf-keras-datasets/train-labels-idx1-ubyte.gz\n",
            "\u001b[1m29515/29515\u001b[0m \u001b[32m━━━━━━━━━━━━━━━━━━━━\u001b[0m\u001b[37m\u001b[0m \u001b[1m0s\u001b[0m 0us/step\n",
            "Downloading data from https://storage.googleapis.com/tensorflow/tf-keras-datasets/train-images-idx3-ubyte.gz\n",
            "\u001b[1m26421880/26421880\u001b[0m \u001b[32m━━━━━━━━━━━━━━━━━━━━\u001b[0m\u001b[37m\u001b[0m \u001b[1m0s\u001b[0m 0us/step\n",
            "Downloading data from https://storage.googleapis.com/tensorflow/tf-keras-datasets/t10k-labels-idx1-ubyte.gz\n",
            "\u001b[1m5148/5148\u001b[0m \u001b[32m━━━━━━━━━━━━━━━━━━━━\u001b[0m\u001b[37m\u001b[0m \u001b[1m0s\u001b[0m 1us/step\n",
            "Downloading data from https://storage.googleapis.com/tensorflow/tf-keras-datasets/t10k-images-idx3-ubyte.gz\n",
            "\u001b[1m4422102/4422102\u001b[0m \u001b[32m━━━━━━━━━━━━━━━━━━━━\u001b[0m\u001b[37m\u001b[0m \u001b[1m0s\u001b[0m 0us/step\n"
          ]
        }
      ],
      "source": [
        "from keras.datasets import fashion_mnist\n",
        "(X_train, y_train), (X_val, y_val) = fashion_mnist.load_data()"
      ]
    },
    {
      "cell_type": "code",
      "execution_count": 4,
      "metadata": {
        "id": "K8IUVqwEC29s",
        "colab": {
          "base_uri": "https://localhost:8080/",
          "height": 52
        },
        "outputId": "0b008425-0993-407e-c510-b7e46e459f43"
      },
      "outputs": [
        {
          "output_type": "execute_result",
          "data": {
            "text/plain": [
              "<Figure size 1200x1200 with 0 Axes>"
            ]
          },
          "metadata": {},
          "execution_count": 4
        },
        {
          "output_type": "display_data",
          "data": {
            "text/plain": [
              "<Figure size 1200x1200 with 0 Axes>"
            ]
          },
          "metadata": {}
        }
      ],
      "source": [
        " unique_labels = set(y_train)\n",
        " plt.figure(figsize=(12, 12))"
      ]
    },
    {
      "cell_type": "code",
      "execution_count": 5,
      "metadata": {
        "id": "lDPDHR_LC66i",
        "colab": {
          "base_uri": "https://localhost:8080/",
          "height": 502
        },
        "outputId": "364ded85-bc2d-489a-fc34-d5a0ffd469eb"
      },
      "outputs": [
        {
          "output_type": "display_data",
          "data": {
            "text/plain": [
              "<Figure size 800x800 with 10 Axes>"
            ],
            "image/png": "[encoded data removed]"
          },
          "metadata": {}
        }
      ],
      "source": [
        "y_train = np.array(y_train).flatten()\n",
        "\n",
        "\n",
        "unique_labels = np.unique(y_train)\n",
        "\n",
        "\n",
        "plt.figure(figsize=(8, 8))\n",
        "\n",
        "for i, label in enumerate(unique_labels):\n",
        "    indices = np.where(y_train == label)[0]\n",
        "    image = X_train[indices[0]]\n",
        "\n",
        "    plt.subplot(2, 5, i + 1)\n",
        "    plt.axis('off')\n",
        "    plt.title(f\"{label}: ({np.sum(y_train == label)})\")\n",
        "    plt.imshow(image, cmap='gray')\n",
        "plt.show()"
      ]
    },
    {
      "cell_type": "code",
      "execution_count": 6,
      "metadata": {
        "colab": {
          "base_uri": "https://localhost:8080/",
          "height": 0
        },
        "id": "sYNg10EQDhuK",
        "outputId": "5ce4dc26-d17c-4af4-c45d-464b0b0ff98f"
      },
      "outputs": [
        {
          "output_type": "stream",
          "name": "stdout",
          "text": [
            "[[[0 0 0 ... 0 0 0]\n",
            "  [0 0 0 ... 0 0 0]\n",
            "  [0 0 0 ... 0 0 0]\n",
            "  ...\n",
            "  [0 0 0 ... 0 0 0]\n",
            "  [0 0 0 ... 0 0 0]\n",
            "  [0 0 0 ... 0 0 0]]\n",
            "\n",
            " [[0 0 0 ... 0 0 0]\n",
            "  [0 0 0 ... 0 0 0]\n",
            "  [0 0 0 ... 0 0 0]\n",
            "  ...\n",
            "  [0 0 0 ... 0 0 0]\n",
            "  [0 0 0 ... 0 0 0]\n",
            "  [0 0 0 ... 0 0 0]]\n",
            "\n",
            " [[0 0 0 ... 0 0 0]\n",
            "  [0 0 0 ... 0 0 0]\n",
            "  [0 0 0 ... 0 0 0]\n",
            "  ...\n",
            "  [0 0 0 ... 0 0 0]\n",
            "  [0 0 0 ... 0 0 0]\n",
            "  [0 0 0 ... 0 0 0]]\n",
            "\n",
            " ...\n",
            "\n",
            " [[0 0 0 ... 0 0 0]\n",
            "  [0 0 0 ... 0 0 0]\n",
            "  [0 0 0 ... 0 0 0]\n",
            "  ...\n",
            "  [0 0 0 ... 0 0 0]\n",
            "  [0 0 0 ... 0 0 0]\n",
            "  [0 0 0 ... 0 0 0]]\n",
            "\n",
            " [[0 0 0 ... 0 0 0]\n",
            "  [0 0 0 ... 0 0 0]\n",
            "  [0 0 0 ... 0 0 0]\n",
            "  ...\n",
            "  [0 0 0 ... 0 0 0]\n",
            "  [0 0 0 ... 0 0 0]\n",
            "  [0 0 0 ... 0 0 0]]\n",
            "\n",
            " [[0 0 0 ... 0 0 0]\n",
            "  [0 0 0 ... 0 0 0]\n",
            "  [0 0 0 ... 0 0 0]\n",
            "  ...\n",
            "  [0 0 0 ... 0 0 0]\n",
            "  [0 0 0 ... 0 0 0]\n",
            "  [0 0 0 ... 0 0 0]]]\n",
            "[9 2 1 ... 8 1 5]\n"
          ]
        }
      ],
      "source": [
        " print(X_val)\n",
        " print(y_val)"
      ]
    },
    {
      "cell_type": "code",
      "execution_count": 7,
      "metadata": {
        "colab": {
          "base_uri": "https://localhost:8080/",
          "height": 0
        },
        "id": "URtjOjk1Dkf_",
        "outputId": "f7a97f60-a775-4d56-8be1-3a27d6344f81"
      },
      "outputs": [
        {
          "output_type": "execute_result",
          "data": {
            "text/plain": [
              "array([[[0., 0., 0., ..., 0., 0., 0.],\n",
              "        [0., 0., 0., ..., 0., 0., 0.],\n",
              "        [0., 0., 0., ..., 0., 0., 0.],\n",
              "        ...,\n",
              "        [0., 0., 0., ..., 0., 0., 0.],\n",
              "        [0., 0., 0., ..., 0., 0., 0.],\n",
              "        [0., 0., 0., ..., 0., 0., 0.]],\n",
              "\n",
              "       [[0., 0., 0., ..., 0., 0., 0.],\n",
              "        [0., 0., 0., ..., 0., 0., 0.],\n",
              "        [0., 0., 0., ..., 0., 0., 0.],\n",
              "        ...,\n",
              "        [0., 0., 0., ..., 0., 0., 0.],\n",
              "        [0., 0., 0., ..., 0., 0., 0.],\n",
              "        [0., 0., 0., ..., 0., 0., 0.]],\n",
              "\n",
              "       [[0., 0., 0., ..., 0., 0., 0.],\n",
              "        [0., 0., 0., ..., 0., 0., 0.],\n",
              "        [0., 0., 0., ..., 0., 0., 0.],\n",
              "        ...,\n",
              "        [0., 0., 0., ..., 0., 0., 0.],\n",
              "        [0., 0., 0., ..., 0., 0., 0.],\n",
              "        [0., 0., 0., ..., 0., 0., 0.]],\n",
              "\n",
              "       ...,\n",
              "\n",
              "       [[0., 0., 0., ..., 0., 0., 0.],\n",
              "        [0., 0., 0., ..., 0., 0., 0.],\n",
              "        [0., 0., 0., ..., 0., 0., 0.],\n",
              "        ...,\n",
              "        [0., 0., 0., ..., 0., 0., 0.],\n",
              "        [0., 0., 0., ..., 0., 0., 0.],\n",
              "        [0., 0., 0., ..., 0., 0., 0.]],\n",
              "\n",
              "       [[0., 0., 0., ..., 0., 0., 0.],\n",
              "        [0., 0., 0., ..., 0., 0., 0.],\n",
              "        [0., 0., 0., ..., 0., 0., 0.],\n",
              "        ...,\n",
              "        [0., 0., 0., ..., 0., 0., 0.],\n",
              "        [0., 0., 0., ..., 0., 0., 0.],\n",
              "        [0., 0., 0., ..., 0., 0., 0.]],\n",
              "\n",
              "       [[0., 0., 0., ..., 0., 0., 0.],\n",
              "        [0., 0., 0., ..., 0., 0., 0.],\n",
              "        [0., 0., 0., ..., 0., 0., 0.],\n",
              "        ...,\n",
              "        [0., 0., 0., ..., 0., 0., 0.],\n",
              "        [0., 0., 0., ..., 0., 0., 0.],\n",
              "        [0., 0., 0., ..., 0., 0., 0.]]], dtype=float32)"
            ]
          },
          "metadata": {},
          "execution_count": 7
        }
      ],
      "source": [
        "X_train = X_train.astype('float32')/255.\n",
        "X_val = X_val.astype('float32')/255.\n",
        "X_val"
      ]
    },
    {
      "cell_type": "code",
      "execution_count": 8,
      "metadata": {
        "colab": {
          "base_uri": "https://localhost:8080/",
          "height": 0
        },
        "id": "gdigqfzNDpux",
        "outputId": "b820c6dc-72b2-4eae-9ed3-4e47942424c7"
      },
      "outputs": [
        {
          "output_type": "stream",
          "name": "stdout",
          "text": [
            "[[0. 0. 0. ... 0. 0. 1.]\n",
            " [1. 0. 0. ... 0. 0. 0.]\n",
            " [1. 0. 0. ... 0. 0. 0.]\n",
            " ...\n",
            " [0. 0. 0. ... 0. 0. 0.]\n",
            " [1. 0. 0. ... 0. 0. 0.]\n",
            " [0. 0. 0. ... 0. 0. 0.]]\n"
          ]
        }
      ],
      "source": [
        "n_classes = 10\n",
        "y_train = to_categorical(y_train, n_classes)\n",
        "y_val = to_categorical(y_val, n_classes)\n",
        "print(y_train)"
      ]
    },
    {
      "cell_type": "code",
      "execution_count": 9,
      "metadata": {
        "colab": {
          "base_uri": "https://localhost:8080/",
          "height": 0
        },
        "id": "F5G6GKu_DxSI",
        "outputId": "c34f9f59-ba16-4d7f-8100-bb3a7275406f"
      },
      "outputs": [
        {
          "output_type": "execute_result",
          "data": {
            "text/plain": [
              "array([[0., 0., 0., ..., 0., 0., 0.],\n",
              "       [0., 0., 0., ..., 0., 0., 0.],\n",
              "       [0., 0., 0., ..., 0., 0., 0.],\n",
              "       ...,\n",
              "       [0., 0., 0., ..., 0., 0., 0.],\n",
              "       [0., 0., 0., ..., 0., 0., 0.],\n",
              "       [0., 0., 0., ..., 0., 0., 0.]], dtype=float32)"
            ]
          },
          "metadata": {},
          "execution_count": 9
        }
      ],
      "source": [
        "X_train = np.reshape(X_train, (60000, 784))\n",
        "X_val = np.reshape(X_val, (10000, 784))\n",
        "X_train"
      ]
    },
    {
      "cell_type": "code",
      "execution_count": 10,
      "metadata": {
        "colab": {
          "base_uri": "https://localhost:8080/",
          "height": 0
        },
        "id": "FFUEJ-9gD1Lf",
        "outputId": "c5f3f235-4225-41a0-a22f-0a896713e5c2"
      },
      "outputs": [
        {
          "output_type": "stream",
          "name": "stderr",
          "text": [
            "/usr/local/lib/python3.10/dist-packages/keras/src/layers/core/dense.py:87: UserWarning: Do not pass an `input_shape`/`input_dim` argument to a layer. When using Sequential models, prefer using an `Input(shape)` object as the first layer in the model instead.\n",
            "  super().__init__(activity_regularizer=activity_regularizer, **kwargs)\n"
          ]
        }
      ],
      "source": [
        " model_sigmoid = Sequential()\n",
        " model_sigmoid.add(Dense(700, input_dim=784, activation='sigmoid'))\n",
        " model_sigmoid.add(Dense(700, activation='sigmoid'))\n",
        " model_sigmoid.add(Dense(700, activation='sigmoid'))\n",
        " model_sigmoid.add(Dense(700, activation='sigmoid'))\n",
        " model_sigmoid.add(Dense(700, activation='sigmoid'))\n",
        " model_sigmoid.add(Dense(350, activation='sigmoid'))\n",
        " model_sigmoid.add(Dense(100, activation='sigmoid'))\n",
        " model_sigmoid.add(Dense(10, activation='softmax'))\n",
        " # Compile model with SGD\n",
        " model_sigmoid.compile(loss='categorical_crossentropy', optimizer='sgd', metrics=['accuracy'])"
      ]
    },
    {
      "cell_type": "code",
      "execution_count": 11,
      "metadata": {
        "id": "jTGZu7rID6W6"
      },
      "outputs": [],
      "source": [
        " model_relu = Sequential()\n",
        " model_relu.add(Dense(700, input_dim=784, activation='relu'))\n",
        " model_relu.add(Dense(700, activation='relu'))\n",
        " model_relu.add(Dense(700, activation='relu'))\n",
        " model_relu.add(Dense(700, activation='relu'))\n",
        " model_relu.add(Dense(700, activation='relu'))\n",
        " model_relu.add(Dense(350, activation='relu'))\n",
        " model_relu.add(Dense(100, activation='relu'))\n",
        " model_relu.add(Dense(10, activation='softmax'))\n",
        " # Compile model with SGD\n",
        " model_relu.compile(loss='categorical_crossentropy', optimizer='sgd', metrics=['accuracy'])"
      ]
    },
    {
      "cell_type": "code",
      "execution_count": 12,
      "metadata": {
        "id": "d8wyg0drEJjD"
      },
      "outputs": [],
      "source": [
        "from keras.layers import ELU\n",
        "\n",
        "model_elu = Sequential()\n",
        "model_elu.add(Dense(700, input_dim=784))\n",
        "model_elu.add(ELU())\n",
        "model_elu.add(Dense(700))\n",
        "model_elu.add(ELU())\n",
        "model_elu.add(Dense(700))\n",
        "model_elu.add(ELU())\n",
        "model_elu.add(Dense(700))\n",
        "model_elu.add(ELU())\n",
        "model_elu.add(Dense(700))\n",
        "model_elu.add(ELU())\n",
        "model_elu.add(Dense(350))\n",
        "model_elu.add(ELU())\n",
        "model_elu.add(Dense(100))\n",
        "model_elu.add(ELU())\n",
        "model_elu.add(Dense(10, activation='softmax'))\n",
        "# Compile model with SGD\n",
        "model_elu.compile(loss='categorical_crossentropy', optimizer='sgd', metrics=['accuracy'])\n"
      ]
    },
    {
      "cell_type": "code",
      "execution_count": 13,
      "metadata": {
        "id": "MqktZPv8EMM4"
      },
      "outputs": [],
      "source": [
        "model_selu = Sequential()\n",
        "model_selu.add(Dense(700, input_dim=784, activation='selu'))\n",
        "model_selu.add(Dense(700, activation='selu'))\n",
        "model_selu.add(Dense(700, activation='selu'))\n",
        "model_selu.add(Dense(700, activation='selu'))\n",
        "model_selu.add(Dense(700, activation='selu'))\n",
        "model_selu.add(Dense(350, activation='selu'))\n",
        "model_selu.add(Dense(100, activation='selu'))\n",
        "model_selu.add(Dense(10, activation='softmax'))\n",
        "# Compile model with SGD\n",
        "model_selu.compile(loss='categorical_crossentropy', optimizer='sgd', metrics=['accuracy'])\n"
      ]
    },
    {
      "cell_type": "code",
      "execution_count": 14,
      "metadata": {
        "id": "pWQaOeCYENjd"
      },
      "outputs": [],
      "source": [
        "import tensorflow as tf\n",
        "\n",
        "model_gelu = Sequential()\n",
        "model_gelu.add(Dense(700, input_dim=784, activation=tf.keras.activations.gelu))\n",
        "model_gelu.add(Dense(700, activation=tf.keras.activations.gelu))\n",
        "model_gelu.add(Dense(700, activation=tf.keras.activations.gelu))\n",
        "model_gelu.add(Dense(700, activation=tf.keras.activations.gelu))\n",
        "model_gelu.add(Dense(700, activation=tf.keras.activations.gelu))\n",
        "model_gelu.add(Dense(350, activation=tf.keras.activations.gelu))\n",
        "model_gelu.add(Dense(100, activation=tf.keras.activations.gelu))\n",
        "model_gelu.add(Dense(10, activation='softmax'))\n",
        "# Compile model with SGD\n",
        "model_gelu.compile(loss='categorical_crossentropy', optimizer='sgd', metrics=['accuracy'])\n"
      ]
    },
    {
      "cell_type": "code",
      "execution_count": 15,
      "metadata": {
        "id": "Bc2kFzPZEO6c"
      },
      "outputs": [],
      "source": [
        "model_tanh = Sequential()\n",
        "model_tanh.add(Dense(700, input_dim=784, activation='tanh'))\n",
        "model_tanh.add(Dense(700, activation='tanh'))\n",
        "model_tanh.add(Dense(700, activation='tanh'))\n",
        "model_tanh.add(Dense(700, activation='tanh'))\n",
        "model_tanh.add(Dense(700, activation='tanh'))\n",
        "model_tanh.add(Dense(350, activation='tanh'))\n",
        "model_tanh.add(Dense(100, activation='tanh'))\n",
        "model_tanh.add(Dense(10, activation='softmax'))\n",
        "# Compile model with SGD\n",
        "model_tanh.compile(loss='categorical_crossentropy', optimizer='sgd', metrics=['accuracy'])\n"
      ]
    },
    {
      "cell_type": "code",
      "execution_count": 16,
      "metadata": {
        "id": "7Z9_fMVfER43"
      },
      "outputs": [],
      "source": [
        "class history_loss(Callback):\n",
        " def on_train_begin(self, logs={}):\n",
        "  self.losses = []\n",
        " def on_batch_end(self, batch, logs={}):\n",
        "  batch_loss = logs.get('loss')\n",
        "  self.losses.append(batch_loss)"
      ]
    },
    {
      "cell_type": "code",
      "execution_count": 17,
      "metadata": {
        "colab": {
          "base_uri": "https://localhost:8080/",
          "height": 0
        },
        "id": "EXKhKeDPEXXo",
        "outputId": "989cf8a3-f357-4d9d-d8f3-d0ba40e57788"
      },
      "outputs": [
        {
          "output_type": "stream",
          "name": "stdout",
          "text": [
            "Epoch 1/10\n",
            "188/188 - 21s - 112ms/step - accuracy: 0.0980 - loss: 2.3335 - val_accuracy: 0.1005 - val_loss: 2.3029\n",
            "Epoch 2/10\n",
            "188/188 - 20s - 106ms/step - accuracy: 0.0991 - loss: 2.3030 - val_accuracy: 0.1003 - val_loss: 2.3028\n",
            "Epoch 3/10\n",
            "188/188 - 19s - 103ms/step - accuracy: 0.0995 - loss: 2.3030 - val_accuracy: 0.0983 - val_loss: 2.3029\n",
            "Epoch 4/10\n",
            "188/188 - 22s - 118ms/step - accuracy: 0.0987 - loss: 2.3029 - val_accuracy: 0.1003 - val_loss: 2.3031\n",
            "Epoch 5/10\n",
            "188/188 - 19s - 102ms/step - accuracy: 0.1005 - loss: 2.3030 - val_accuracy: 0.1030 - val_loss: 2.3026\n",
            "Epoch 6/10\n",
            "188/188 - 22s - 118ms/step - accuracy: 0.0976 - loss: 2.3029 - val_accuracy: 0.0989 - val_loss: 2.3032\n",
            "Epoch 7/10\n",
            "188/188 - 41s - 218ms/step - accuracy: 0.0982 - loss: 2.3030 - val_accuracy: 0.0957 - val_loss: 2.3029\n",
            "Epoch 8/10\n",
            "188/188 - 19s - 99ms/step - accuracy: 0.0984 - loss: 2.3030 - val_accuracy: 0.0995 - val_loss: 2.3029\n",
            "Epoch 9/10\n",
            "188/188 - 22s - 118ms/step - accuracy: 0.0980 - loss: 2.3030 - val_accuracy: 0.0983 - val_loss: 2.3030\n",
            "Epoch 10/10\n",
            "188/188 - 19s - 100ms/step - accuracy: 0.1014 - loss: 2.3029 - val_accuracy: 0.1013 - val_loss: 2.3029\n"
          ]
        },
        {
          "output_type": "execute_result",
          "data": {
            "text/plain": [
              "<keras.src.callbacks.history.History at 0x7fae458190c0>"
            ]
          },
          "metadata": {},
          "execution_count": 17
        }
      ],
      "source": [
        "n_epochs = 10\n",
        "batch_size = 256\n",
        "validation_split = 0.2\n",
        "history_sigmoid = history_loss()\n",
        "model_sigmoid.fit(X_train, y_train, epochs=n_epochs, batch_size=batch_size,\n",
        " callbacks=[history_sigmoid],\n",
        " validation_split=validation_split, verbose=2)"
      ]
    },
    {
      "cell_type": "code",
      "execution_count": 18,
      "metadata": {
        "colab": {
          "base_uri": "https://localhost:8080/",
          "height": 0
        },
        "id": "6ueDrSB3EgJN",
        "outputId": "6e59a802-2a28-4a77-8a8e-50969629ff60"
      },
      "outputs": [
        {
          "output_type": "stream",
          "name": "stdout",
          "text": [
            "Epoch 1/10\n",
            "188/188 - 22s - 115ms/step - accuracy: 0.4527 - loss: 1.9277 - val_accuracy: 0.6429 - val_loss: 1.2014\n",
            "Epoch 2/10\n",
            "188/188 - 19s - 101ms/step - accuracy: 0.6810 - loss: 0.9102 - val_accuracy: 0.6707 - val_loss: 0.9185\n",
            "Epoch 3/10\n",
            "188/188 - 21s - 114ms/step - accuracy: 0.7507 - loss: 0.7008 - val_accuracy: 0.7897 - val_loss: 0.6509\n",
            "Epoch 4/10\n",
            "188/188 - 19s - 100ms/step - accuracy: 0.7885 - loss: 0.6018 - val_accuracy: 0.7561 - val_loss: 0.6461\n",
            "Epoch 5/10\n",
            "188/188 - 20s - 108ms/step - accuracy: 0.8084 - loss: 0.5464 - val_accuracy: 0.8197 - val_loss: 0.5179\n",
            "Epoch 6/10\n",
            "188/188 - 21s - 110ms/step - accuracy: 0.8199 - loss: 0.5148 - val_accuracy: 0.8273 - val_loss: 0.4994\n",
            "Epoch 7/10\n",
            "188/188 - 21s - 109ms/step - accuracy: 0.8295 - loss: 0.4863 - val_accuracy: 0.8056 - val_loss: 0.5452\n",
            "Epoch 8/10\n",
            "188/188 - 21s - 109ms/step - accuracy: 0.8347 - loss: 0.4688 - val_accuracy: 0.8359 - val_loss: 0.4709\n",
            "Epoch 9/10\n",
            "188/188 - 22s - 115ms/step - accuracy: 0.8390 - loss: 0.4556 - val_accuracy: 0.8328 - val_loss: 0.4714\n",
            "Epoch 10/10\n",
            "188/188 - 19s - 103ms/step - accuracy: 0.8450 - loss: 0.4405 - val_accuracy: 0.8432 - val_loss: 0.4504\n"
          ]
        },
        {
          "output_type": "execute_result",
          "data": {
            "text/plain": [
              "<keras.src.callbacks.history.History at 0x7fae45818a30>"
            ]
          },
          "metadata": {},
          "execution_count": 18
        }
      ],
      "source": [
        " history_relu = history_loss()\n",
        " model_relu.fit(X_train, y_train, epochs=n_epochs, batch_size=batch_size,\n",
        " callbacks=[history_relu],\n",
        " validation_split=validation_split, verbose=2)"
      ]
    },
    {
      "cell_type": "code",
      "execution_count": 19,
      "metadata": {
        "colab": {
          "base_uri": "https://localhost:8080/",
          "height": 0
        },
        "id": "yEnVTP6FEp_4",
        "outputId": "f659c6ca-ae7b-4450-d9db-dcf3c3d25b1d"
      },
      "outputs": [
        {
          "output_type": "stream",
          "name": "stdout",
          "text": [
            "Epoch 1/10\n",
            "188/188 - 21s - 114ms/step - accuracy: 0.7181 - loss: 0.8770 - val_accuracy: 0.7871 - val_loss: 0.6088\n",
            "Epoch 2/10\n",
            "188/188 - 43s - 229ms/step - accuracy: 0.8084 - loss: 0.5498 - val_accuracy: 0.8155 - val_loss: 0.5182\n",
            "Epoch 3/10\n",
            "188/188 - 19s - 101ms/step - accuracy: 0.8241 - loss: 0.4944 - val_accuracy: 0.8152 - val_loss: 0.5080\n",
            "Epoch 4/10\n",
            "188/188 - 19s - 103ms/step - accuracy: 0.8336 - loss: 0.4659 - val_accuracy: 0.8323 - val_loss: 0.4634\n",
            "Epoch 5/10\n",
            "188/188 - 21s - 114ms/step - accuracy: 0.8404 - loss: 0.4483 - val_accuracy: 0.8409 - val_loss: 0.4549\n",
            "Epoch 6/10\n",
            "188/188 - 20s - 107ms/step - accuracy: 0.8454 - loss: 0.4338 - val_accuracy: 0.8426 - val_loss: 0.4352\n",
            "Epoch 7/10\n",
            "188/188 - 20s - 107ms/step - accuracy: 0.8503 - loss: 0.4223 - val_accuracy: 0.8437 - val_loss: 0.4344\n",
            "Epoch 8/10\n",
            "188/188 - 20s - 106ms/step - accuracy: 0.8530 - loss: 0.4142 - val_accuracy: 0.8295 - val_loss: 0.4637\n",
            "Epoch 9/10\n",
            "188/188 - 22s - 118ms/step - accuracy: 0.8561 - loss: 0.4050 - val_accuracy: 0.8383 - val_loss: 0.4446\n",
            "Epoch 10/10\n",
            "188/188 - 41s - 216ms/step - accuracy: 0.8586 - loss: 0.3974 - val_accuracy: 0.8508 - val_loss: 0.4106\n"
          ]
        },
        {
          "output_type": "execute_result",
          "data": {
            "text/plain": [
              "<keras.src.callbacks.history.History at 0x7fae4560a500>"
            ]
          },
          "metadata": {},
          "execution_count": 19
        }
      ],
      "source": [
        "history_elu = history_loss()\n",
        "model_elu.fit(X_train, y_train, epochs=n_epochs, batch_size=batch_size,\n",
        "              callbacks=[history_elu],\n",
        "              validation_split=validation_split, verbose=2)\n"
      ]
    },
    {
      "cell_type": "code",
      "execution_count": 20,
      "metadata": {
        "colab": {
          "base_uri": "https://localhost:8080/",
          "height": 0
        },
        "id": "C2YbTEmQEr95",
        "outputId": "56c6a32a-d400-4b63-d847-0c38795da884"
      },
      "outputs": [
        {
          "output_type": "stream",
          "name": "stdout",
          "text": [
            "Epoch 1/10\n",
            "188/188 - 21s - 114ms/step - accuracy: 0.7623 - loss: 0.7290 - val_accuracy: 0.7983 - val_loss: 0.5217\n",
            "Epoch 2/10\n",
            "188/188 - 20s - 106ms/step - accuracy: 0.8414 - loss: 0.4368 - val_accuracy: 0.8509 - val_loss: 0.4135\n",
            "Epoch 3/10\n",
            "188/188 - 19s - 102ms/step - accuracy: 0.8589 - loss: 0.3939 - val_accuracy: 0.8577 - val_loss: 0.3882\n",
            "Epoch 4/10\n",
            "188/188 - 22s - 119ms/step - accuracy: 0.8661 - loss: 0.3694 - val_accuracy: 0.8584 - val_loss: 0.3915\n",
            "Epoch 5/10\n",
            "188/188 - 19s - 102ms/step - accuracy: 0.8725 - loss: 0.3530 - val_accuracy: 0.8638 - val_loss: 0.3736\n",
            "Epoch 6/10\n",
            "188/188 - 22s - 118ms/step - accuracy: 0.8803 - loss: 0.3340 - val_accuracy: 0.8707 - val_loss: 0.3593\n",
            "Epoch 7/10\n",
            "188/188 - 19s - 100ms/step - accuracy: 0.8839 - loss: 0.3208 - val_accuracy: 0.8704 - val_loss: 0.3598\n",
            "Epoch 8/10\n",
            "188/188 - 23s - 120ms/step - accuracy: 0.8885 - loss: 0.3102 - val_accuracy: 0.8619 - val_loss: 0.3779\n",
            "Epoch 9/10\n",
            "188/188 - 41s - 219ms/step - accuracy: 0.8926 - loss: 0.2996 - val_accuracy: 0.8770 - val_loss: 0.3362\n",
            "Epoch 10/10\n",
            "188/188 - 19s - 98ms/step - accuracy: 0.8945 - loss: 0.2902 - val_accuracy: 0.8669 - val_loss: 0.3690\n"
          ]
        },
        {
          "output_type": "execute_result",
          "data": {
            "text/plain": [
              "<keras.src.callbacks.history.History at 0x7fae2e6974c0>"
            ]
          },
          "metadata": {},
          "execution_count": 20
        }
      ],
      "source": [
        "history_selu = history_loss()\n",
        "model_selu.fit(X_train, y_train, epochs=n_epochs, batch_size=batch_size,\n",
        "               callbacks=[history_selu],\n",
        "               validation_split=validation_split, verbose=2)\n"
      ]
    },
    {
      "cell_type": "code",
      "execution_count": 21,
      "metadata": {
        "colab": {
          "base_uri": "https://localhost:8080/",
          "height": 0
        },
        "id": "-7sVLbQ-EtJR",
        "outputId": "7837cc9d-6b22-4618-90ec-30caa40480a4"
      },
      "outputs": [
        {
          "output_type": "stream",
          "name": "stdout",
          "text": [
            "Epoch 1/10\n",
            "188/188 - 24s - 129ms/step - accuracy: 0.1389 - loss: 2.2975 - val_accuracy: 0.1968 - val_loss: 2.2913\n",
            "Epoch 2/10\n",
            "188/188 - 41s - 216ms/step - accuracy: 0.2224 - loss: 2.2834 - val_accuracy: 0.2294 - val_loss: 2.2717\n",
            "Epoch 3/10\n",
            "188/188 - 42s - 223ms/step - accuracy: 0.1971 - loss: 2.2430 - val_accuracy: 0.1600 - val_loss: 2.1754\n",
            "Epoch 4/10\n",
            "188/188 - 40s - 211ms/step - accuracy: 0.2755 - loss: 2.0479 - val_accuracy: 0.4033 - val_loss: 1.8085\n",
            "Epoch 5/10\n",
            "188/188 - 41s - 217ms/step - accuracy: 0.4567 - loss: 1.4398 - val_accuracy: 0.5470 - val_loss: 1.1823\n",
            "Epoch 6/10\n",
            "188/188 - 21s - 110ms/step - accuracy: 0.6163 - loss: 1.0373 - val_accuracy: 0.6358 - val_loss: 0.8928\n",
            "Epoch 7/10\n",
            "188/188 - 23s - 123ms/step - accuracy: 0.6943 - loss: 0.8445 - val_accuracy: 0.7096 - val_loss: 0.8078\n",
            "Epoch 8/10\n",
            "188/188 - 40s - 213ms/step - accuracy: 0.7361 - loss: 0.7270 - val_accuracy: 0.7503 - val_loss: 0.7070\n",
            "Epoch 9/10\n",
            "188/188 - 41s - 219ms/step - accuracy: 0.7533 - loss: 0.6737 - val_accuracy: 0.7575 - val_loss: 0.6627\n",
            "Epoch 10/10\n",
            "188/188 - 41s - 217ms/step - accuracy: 0.7670 - loss: 0.6289 - val_accuracy: 0.7782 - val_loss: 0.6108\n"
          ]
        },
        {
          "output_type": "execute_result",
          "data": {
            "text/plain": [
              "<keras.src.callbacks.history.History at 0x7fae2ee3e2c0>"
            ]
          },
          "metadata": {},
          "execution_count": 21
        }
      ],
      "source": [
        "history_gelu = history_loss()\n",
        "model_gelu.fit(X_train, y_train, epochs=n_epochs, batch_size=batch_size,\n",
        "               callbacks=[history_gelu],\n",
        "               validation_split=validation_split, verbose=2)\n"
      ]
    },
    {
      "cell_type": "code",
      "execution_count": 22,
      "metadata": {
        "colab": {
          "base_uri": "https://localhost:8080/",
          "height": 0
        },
        "id": "U0F9Dj9rEu45",
        "outputId": "b0ee4525-c4e0-4a78-a95a-ba8978c18d19"
      },
      "outputs": [
        {
          "output_type": "stream",
          "name": "stdout",
          "text": [
            "Epoch 1/10\n",
            "188/188 - 23s - 124ms/step - accuracy: 0.7198 - loss: 0.8843 - val_accuracy: 0.7910 - val_loss: 0.6220\n",
            "Epoch 2/10\n",
            "188/188 - 39s - 207ms/step - accuracy: 0.8087 - loss: 0.5662 - val_accuracy: 0.8148 - val_loss: 0.5331\n",
            "Epoch 3/10\n",
            "188/188 - 20s - 108ms/step - accuracy: 0.8260 - loss: 0.5020 - val_accuracy: 0.8290 - val_loss: 0.4890\n",
            "Epoch 4/10\n",
            "188/188 - 19s - 103ms/step - accuracy: 0.8352 - loss: 0.4707 - val_accuracy: 0.8313 - val_loss: 0.4687\n",
            "Epoch 5/10\n",
            "188/188 - 22s - 118ms/step - accuracy: 0.8428 - loss: 0.4488 - val_accuracy: 0.8381 - val_loss: 0.4509\n",
            "Epoch 6/10\n",
            "188/188 - 40s - 211ms/step - accuracy: 0.8474 - loss: 0.4344 - val_accuracy: 0.8453 - val_loss: 0.4363\n",
            "Epoch 7/10\n",
            "188/188 - 19s - 100ms/step - accuracy: 0.8513 - loss: 0.4230 - val_accuracy: 0.8381 - val_loss: 0.4520\n",
            "Epoch 8/10\n",
            "188/188 - 22s - 117ms/step - accuracy: 0.8540 - loss: 0.4130 - val_accuracy: 0.8496 - val_loss: 0.4176\n",
            "Epoch 9/10\n",
            "188/188 - 19s - 101ms/step - accuracy: 0.8568 - loss: 0.4051 - val_accuracy: 0.8460 - val_loss: 0.4255\n",
            "Epoch 10/10\n",
            "188/188 - 19s - 100ms/step - accuracy: 0.8602 - loss: 0.3961 - val_accuracy: 0.8474 - val_loss: 0.4213\n"
          ]
        },
        {
          "output_type": "execute_result",
          "data": {
            "text/plain": [
              "<keras.src.callbacks.history.History at 0x7fae2ec6ad10>"
            ]
          },
          "metadata": {},
          "execution_count": 22
        }
      ],
      "source": [
        "history_tanh = history_loss()\n",
        "model_tanh.fit(X_train, y_train, epochs=n_epochs, batch_size=batch_size,\n",
        "               callbacks=[history_tanh],\n",
        "               validation_split=validation_split, verbose=2)\n"
      ]
    },
    {
      "cell_type": "code",
      "execution_count": 23,
      "metadata": {
        "colab": {
          "base_uri": "https://localhost:8080/",
          "height": 0
        },
        "id": "UnGx0kM7Exhg",
        "outputId": "919e4770-53ad-4b01-a8e7-3ed2404d3faf"
      },
      "outputs": [
        {
          "output_type": "stream",
          "name": "stdout",
          "text": [
            "[2.763857841491699, 2.7381319999694824, 2.6699044704437256, 2.6578569412231445, 2.659571886062622, 2.63161039352417, 2.6143124103546143, 2.612788200378418, 2.6037912368774414, 2.5917325019836426, 2.5864899158477783, 2.5809104442596436, 2.571092367172241, 2.560492753982544, 2.555860996246338, 2.551562786102295, 2.541046380996704, 2.5332000255584717, 2.525071859359741, 2.5190696716308594, 2.5140597820281982, 2.508045196533203, 2.50312876701355, 2.4991602897644043, 2.493359327316284, 2.4875094890594482, 2.48226261138916, 2.4771370887756348, 2.4724409580230713, 2.4690136909484863, 2.465747594833374, 2.4611833095550537, 2.4574172496795654, 2.453920364379883, 2.451066255569458, 2.4478893280029297, 2.4448509216308594, 2.442246198654175, 2.440129041671753, 2.4372260570526123, 2.4346566200256348, 2.432410717010498, 2.430377244949341, 2.4277992248535156, 2.4251062870025635, 2.4227652549743652, 2.421003580093384, 2.4185879230499268, 2.416088342666626, 2.4141042232513428, 2.4122064113616943, 2.4101927280426025, 2.408466339111328, 2.4066574573516846, 2.404618978500366, 2.403120756149292, 2.4012973308563232, 2.3997015953063965, 2.398153305053711, 2.396782875061035, 2.395336866378784, 2.3937995433807373, 2.3923470973968506, 2.3910977840423584, 2.38995623588562, 2.388629674911499, 2.387219190597534, 2.3861703872680664, 2.38506817817688, 2.3839609622955322, 2.3828346729278564, 2.3818142414093018, 2.380777359008789, 2.379840135574341, 2.378793716430664, 2.377908706665039, 2.3769643306732178, 2.37604022026062, 2.375173568725586, 2.37428617477417, 2.3733937740325928, 2.372551679611206, 2.371779203414917, 2.371011972427368, 2.3702590465545654, 2.3694756031036377, 2.3687076568603516, 2.36797833442688, 2.3672404289245605, 2.366542100906372, 2.3658430576324463, 2.3651440143585205, 2.364466428756714, 2.36381196975708, 2.363140821456909, 2.36246919631958, 2.3618478775024414, 2.361293315887451, 2.3607020378112793, 2.3601481914520264, 2.3595736026763916, 2.359034299850464, 2.3585054874420166, 2.3579843044281006, 2.357459545135498, 2.3569395542144775, 2.3564493656158447, 2.355959892272949, 2.3554818630218506, 2.354982376098633, 2.3545045852661133, 2.354045867919922, 2.353583574295044, 2.3531641960144043, 2.352736711502075, 2.3523201942443848, 2.351872682571411, 2.351461410522461, 2.351032257080078, 2.350639820098877, 2.3502440452575684, 2.3498501777648926, 2.3494651317596436, 2.349095344543457, 2.348731279373169, 2.3483848571777344, 2.348036050796509, 2.347688913345337, 2.347336530685425, 2.346997022628784, 2.3466567993164062, 2.3463172912597656, 2.34598445892334, 2.3456618785858154, 2.345355272293091, 2.3450565338134766, 2.3447563648223877, 2.3444511890411377, 2.3441569805145264, 2.3438572883605957, 2.343566656112671, 2.3432867527008057, 2.3429999351501465, 2.342728853225708, 2.342439651489258, 2.3421719074249268, 2.341899871826172, 2.3416402339935303, 2.341369867324829, 2.341114044189453, 2.340853691101074, 2.3406100273132324, 2.3403818607330322, 2.3401455879211426, 2.3399085998535156, 2.33967661857605, 2.3394410610198975, 2.3392088413238525, 2.338979959487915, 2.3387577533721924, 2.3385369777679443, 2.3383193016052246, 2.338109016418457, 2.337891101837158, 2.3376705646514893, 2.3374671936035156, 2.33726167678833, 2.337059736251831, 2.336862325668335, 2.3366639614105225, 2.33646821975708, 2.3362762928009033, 2.3360836505889893, 2.3358960151672363, 2.3357059955596924, 2.3355319499969482, 2.335341215133667, 2.3351573944091797, 2.334975004196167, 2.334789514541626, 2.334627628326416, 2.33445143699646, 2.3342721462249756, 2.3341057300567627, 2.3339366912841797, 2.3337767124176025, 2.333606243133545, 2.333522081375122, 2.3020386695861816, 2.302579164505005, 2.3027572631835938, 2.3028948307037354, 2.3023605346679688, 2.3028223514556885, 2.3033053874969482, 2.3031647205352783, 2.303250312805176, 2.3031089305877686, 2.3029046058654785, 2.3028018474578857, 2.303049325942993, 2.302971601486206, 2.302926540374756, 2.3029370307922363, 2.30295467376709, 2.3028993606567383, 2.302783250808716, 2.302748203277588, 2.3029611110687256, 2.302959680557251, 2.3029439449310303, 2.302933692932129, 2.3029541969299316, 2.3029208183288574, 2.302903175354004, 2.3028624057769775, 2.3028032779693604, 2.302900552749634, 2.302946090698242, 2.302910089492798, 2.3029074668884277, 2.302907943725586, 2.3028979301452637, 2.302912712097168, 2.3028595447540283, 2.3028507232666016, 2.302957057952881, 2.3029568195343018, 2.302926540374756, 2.3028931617736816, 2.3029730319976807, 2.3029510974884033, 2.3029377460479736, 2.3029446601867676, 2.3029518127441406, 2.302990198135376, 2.3029677867889404, 2.3029837608337402, 2.302927255630493, 2.3029298782348633, 2.3029096126556396, 2.3029651641845703, 2.302990436553955, 2.3029468059539795, 2.3029487133026123, 2.3029308319091797, 2.3029394149780273, 2.3029463291168213, 2.302924871444702, 2.302985906600952, 2.3030402660369873, 2.303034543991089, 2.3030240535736084, 2.3030459880828857, 2.303032875061035, 2.3030529022216797, 2.303048849105835, 2.3030295372009277, 2.3030123710632324, 2.303022623062134, 2.3030002117156982, 2.3030128479003906, 2.3030245304107666, 2.302999496459961, 2.303006172180176, 2.3030216693878174, 2.3029990196228027, 2.3030104637145996, 2.3030152320861816, 2.3030052185058594, 2.3030126094818115, 2.303035259246826, 2.303044557571411, 2.303037405014038, 2.303039312362671, 2.303046941757202, 2.3030507564544678, 2.303037405014038, 2.303010940551758, 2.3029706478118896, 2.3029799461364746, 2.3029651641845703, 2.3029561042785645, 2.302954912185669, 2.302992820739746, 2.302992582321167, 2.3030145168304443, 2.3030107021331787, 2.3030054569244385, 2.3029987812042236, 2.3029887676239014, 2.3029770851135254, 2.302973747253418, 2.3029797077178955, 2.302988290786743, 2.3029866218566895, 2.303004264831543, 2.3030054569244385, 2.3030037879943848, 2.30302095413208, 2.303034782409668, 2.3030402660369873, 2.30303692817688, 2.3030290603637695, 2.3030335903167725, 2.3030335903167725, 2.3030333518981934, 2.3030316829681396, 2.3030333518981934, 2.303040027618408, 2.3030359745025635, 2.303025007247925, 2.303025484085083, 2.3030102252960205, 2.303022623062134, 2.3030200004577637, 2.3030221462249756, 2.3030316829681396, 2.303025722503662, 2.3030166625976562, 2.3030176162719727, 2.303010940551758, 2.3030073642730713, 2.3030240535736084, 2.303006887435913, 2.3030030727386475, 2.3029961585998535, 2.3029911518096924, 2.302980661392212, 2.3029918670654297, 2.303006649017334, 2.302987813949585, 2.302983283996582, 2.3029844760894775, 2.3029773235321045, 2.3029747009277344, 2.3029801845550537, 2.3029959201812744, 2.303004503250122, 2.303018569946289, 2.303022861480713, 2.3030202388763428, 2.3030173778533936, 2.3030145168304443, 2.303013801574707, 2.30299973487854, 2.3030033111572266, 2.3030059337615967, 2.3030102252960205, 2.30301570892334, 2.3030190467834473, 2.3030130863189697, 2.303018093109131, 2.303025007247925, 2.3030195236206055, 2.303025722503662, 2.3030176162719727, 2.3030195236206055, 2.30302357673645, 2.303018569946289, 2.303013324737549, 2.3030173778533936, 2.30302095413208, 2.3030335903167725, 2.303030014038086, 2.303025007247925, 2.303032159805298, 2.30303955078125, 2.303030014038086, 2.303025960922241, 2.3030219078063965, 2.303009510040283, 2.30301570892334, 2.3030283451080322, 2.303027868270874, 2.3030357360839844, 2.303896903991699, 2.3029065132141113, 2.3026225566864014, 2.302797555923462, 2.302435874938965, 2.302410125732422, 2.3025333881378174, 2.30228853225708, 2.3021814823150635, 2.302389621734619, 2.3022844791412354, 2.3021068572998047, 2.302276134490967, 2.3021140098571777, 2.3023533821105957, 2.3023412227630615, 2.302109479904175, 2.3022754192352295, 2.3023624420166016, 2.302161455154419, 2.3023152351379395, 2.302398443222046, 2.302431583404541, 2.3025124073028564, 2.302432060241699, 2.3025500774383545, 2.3026623725891113, 2.3027045726776123, 2.30269455909729, 2.3027360439300537, 2.3028130531311035, 2.3027613162994385, 2.3027610778808594, 2.302703857421875, 2.30277943611145, 2.3027021884918213, 2.302736759185791, 2.30271053314209, 2.3027641773223877, 2.302779197692871, 2.3027873039245605, 2.3028805255889893, 2.3028669357299805, 2.3028180599212646, 2.302795886993408, 2.3027968406677246, 2.30283784866333, 2.3028478622436523, 2.3028564453125, 2.302839517593384, 2.302819013595581, 2.3028178215026855, 2.302826404571533, 2.302823066711426, 2.302833080291748, 2.3028030395507812, 2.3028178215026855, 2.302840232849121, 2.3027923107147217, 2.3027987480163574, 2.302769660949707, 2.302755117416382, 2.302797794342041, 2.3028132915496826, 2.3028101921081543, 2.3028464317321777, 2.302819013595581, 2.3028454780578613, 2.3028273582458496, 2.302840232849121, 2.302825450897217, 2.302826166152954, 2.3028342723846436, 2.3028454780578613, 2.302861213684082, 2.302891254425049, 2.3029003143310547, 2.3028969764709473, 2.302910804748535, 2.302894115447998, 2.302863121032715, 2.3028628826141357, 2.3028929233551025, 2.302885055541992, 2.302866220474243, 2.3028807640075684, 2.302873373031616, 2.3028907775878906, 2.3028712272644043, 2.3028440475463867, 2.3028719425201416, 2.3028812408447266, 2.3028693199157715, 2.3028810024261475, 2.302891969680786, 2.3028876781463623, 2.302903652191162, 2.3029181957244873, 2.3029356002807617, 2.302920341491699, 2.302936553955078, 2.302942991256714, 2.302943229675293, 2.3029370307922363, 2.3029191493988037, 2.302922487258911, 2.302901029586792, 2.302910566329956, 2.3029119968414307, 2.302931547164917, 2.302929639816284, 2.3029229640960693, 2.302929162979126, 2.3029401302337646, 2.302924871444702, 2.3029394149780273, 2.3029191493988037, 2.302901029586792, 2.30289626121521, 2.302877187728882, 2.3028712272644043, 2.3028814792633057, 2.302860975265503, 2.3028719425201416, 2.3028745651245117, 2.3028643131256104, 2.302877426147461, 2.302889585494995, 2.3029091358184814, 2.302912950515747, 2.3029165267944336, 2.302924394607544, 2.3029403686523438, 2.3029470443725586, 2.3029415607452393, 2.302931308746338, 2.30293869972229, 2.30293869972229, 2.3029308319091797, 2.3029305934906006, 2.3029391765594482, 2.302936553955078, 2.302938461303711, 2.3029439449310303, 2.3029398918151855, 2.30295729637146, 2.302953004837036, 2.302943706512451, 2.302947998046875, 2.302945852279663, 2.302945852279663, 2.302943468093872, 2.302955389022827, 2.3029561042785645, 2.3029561042785645, 2.3029510974884033, 2.3029422760009766, 2.302949905395508, 2.302948474884033, 2.302957773208618, 2.3029584884643555, 2.3029584884643555, 2.3029422760009766, 2.302931785583496, 2.3029298782348633, 2.302924633026123, 2.302926778793335, 2.302924156188965, 2.30295467376709, 2.3029592037200928, 2.302969217300415, 2.3029632568359375, 2.302971601486206, 2.3029775619506836, 2.3029823303222656, 2.302978992462158, 2.3029775619506836, 2.302968978881836, 2.3029682636260986, 2.3029685020446777, 2.3029627799987793, 2.3029589653015137, 2.302962303161621, 2.3029685020446777, 2.3029696941375732, 2.3029677867889404, 2.3029732704162598, 2.302978515625, 2.3012640476226807, 2.302283763885498, 2.3023476600646973, 2.3017401695251465, 2.3018810749053955, 2.302057981491089, 2.3022351264953613, 2.302206516265869, 2.302492141723633, 2.302196741104126, 2.3021841049194336, 2.302528142929077, 2.3027195930480957, 2.3027873039245605, 2.302853584289551, 2.3027725219726562, 2.3027656078338623, 2.3027029037475586, 2.3026416301727295, 2.3026785850524902, 2.302731990814209, 2.3025949001312256, 2.3027024269104004, 2.302664041519165, 2.302703857421875, 2.3026795387268066, 2.3027572631835938, 2.302812099456787, 2.30277943611145, 2.302809715270996, 2.3028314113616943, 2.3027608394622803, 2.3027708530426025, 2.3026936054229736, 2.302604913711548, 2.302668333053589, 2.3026909828186035, 2.302741527557373, 2.302738666534424, 2.302746534347534, 2.302706003189087, 2.3027052879333496, 2.302722215652466, 2.302720069885254, 2.302713632583618, 2.302734613418579, 2.3026816844940186, 2.3027305603027344, 2.302748441696167, 2.302794933319092, 2.3028194904327393, 2.302833318710327, 2.302859306335449, 2.3028297424316406, 2.3028550148010254, 2.302797794342041, 2.3027830123901367, 2.3027515411376953, 2.302736520767212, 2.302722930908203, 2.30277156829834, 2.302780866622925, 2.3028032779693604, 2.302859306335449, 2.302868127822876, 2.3028697967529297, 2.302847146987915, 2.3028576374053955, 2.3028743267059326, 2.3028769493103027, 2.3028714656829834, 2.30288028717041, 2.3028879165649414, 2.302868127822876, 2.302865505218506, 2.302849769592285, 2.3028452396392822, 2.3028223514556885, 2.3028347492218018, 2.302849292755127, 2.3028247356414795, 2.3028364181518555, 2.302860736846924, 2.3028602600097656, 2.302846908569336, 2.3028452396392822, 2.3028359413146973, 2.302842378616333, 2.3028247356414795, 2.30281138420105, 2.302821397781372, 2.3028457164764404, 2.3028299808502197, 2.3028476238250732, 2.3028488159179688, 2.302886486053467, 2.302896499633789, 2.302889585494995, 2.302888870239258, 2.3028628826141357, 2.3028481006622314, 2.302866220474243, 2.302865743637085, 2.3028528690338135, 2.302859306335449, 2.302842378616333, 2.3028433322906494, 2.3028318881988525, 2.302827835083008, 2.302807331085205, 2.302832841873169, 2.3028547763824463, 2.3028385639190674, 2.302841901779175, 2.302856206893921, 2.3028624057769775, 2.3028476238250732, 2.3028509616851807, 2.3028512001037598, 2.3028557300567627, 2.302863597869873, 2.302865505218506, 2.3028886318206787, 2.3028934001922607, 2.3028955459594727, 2.302891254425049, 2.3029050827026367, 2.302910089492798, 2.302901268005371, 2.3029017448425293, 2.302910327911377, 2.302910804748535, 2.302903890609741, 2.3029024600982666, 2.3028957843780518, 2.30289363861084, 2.3028924465179443, 2.3028738498687744, 2.302877187728882, 2.3029086589813232, 2.3029003143310547, 2.302905797958374, 2.3029091358184814, 2.3028969764709473, 2.302898645401001, 2.30289626121521, 2.3028974533081055, 2.302903652191162, 2.302912950515747, 2.3029167652130127, 2.302913188934326, 2.3029019832611084, 2.30289363861084, 2.302903652191162, 2.3029136657714844, 2.3029186725616455, 2.3029277324676514, 2.302915573120117, 2.3029072284698486, 2.3028969764709473, 2.3028922080993652, 2.302870988845825, 2.3028717041015625, 2.3028526306152344, 2.3028337955474854, 2.30281662940979, 2.302798271179199, 2.302811861038208, 2.302824020385742, 2.3028178215026855, 2.30283522605896, 2.302828550338745, 2.302833080291748, 2.3028361797332764, 2.302854061126709, 2.302865743637085, 2.302865982055664, 2.302877902984619, 2.302886962890625, 2.3028948307037354, 2.3028907775878906, 2.3028879165649414, 2.302882194519043, 2.302868604660034, 2.3028690814971924, 2.3028719425201416, 2.302870273590088, 2.302870988845825, 2.299915313720703, 2.303095579147339, 2.30260968208313, 2.3030433654785156, 2.30350923538208, 2.303166627883911, 2.303004026412964, 2.3031563758850098, 2.3029918670654297, 2.3026082515716553, 2.3028266429901123, 2.303008794784546, 2.3031158447265625, 2.303278684616089, 2.303266763687134, 2.3032190799713135, 2.303328275680542, 2.3033053874969482, 2.303373336791992, 2.3033766746520996, 2.303313970565796, 2.3032357692718506, 2.303159236907959, 2.3032138347625732, 2.3031957149505615, 2.303215503692627, 2.3032383918762207, 2.3032174110412598, 2.3032784461975098, 2.3032572269439697, 2.3032591342926025, 2.303236722946167, 2.303229331970215, 2.303197145462036, 2.303154230117798, 2.3031041622161865, 2.303114652633667, 2.3031582832336426, 2.3031461238861084, 2.3031325340270996, 2.3031294345855713, 2.303169012069702, 2.3031983375549316, 2.303184747695923, 2.303189992904663, 2.303170919418335, 2.3031563758850098, 2.3031461238861084, 2.303138494491577, 2.303128957748413, 2.303147554397583, 2.303114175796509, 2.303117513656616, 2.303144931793213, 2.3031246662139893, 2.303159475326538, 2.3031578063964844, 2.3031656742095947, 2.3031392097473145, 2.303135633468628, 2.303133964538574, 2.303138256072998, 2.303130865097046, 2.3030924797058105, 2.3031022548675537, 2.303107976913452, 2.3031299114227295, 2.3031020164489746, 2.3031139373779297, 2.3031139373779297, 2.303084135055542, 2.303101062774658, 2.303114891052246, 2.30308198928833, 2.3030872344970703, 2.3030550479888916, 2.3030529022216797, 2.3030903339385986, 2.303086042404175, 2.3030824661254883, 2.3030834197998047, 2.303036689758301, 2.303053379058838, 2.303016185760498, 2.3030030727386475, 2.302980661392212, 2.303014039993286, 2.3030102252960205, 2.303001642227173, 2.303013324737549, 2.303039073944092, 2.303051233291626, 2.3030436038970947, 2.3030829429626465, 2.303074359893799, 2.303063154220581, 2.3030753135681152, 2.303086519241333, 2.303074598312378, 2.3030638694763184, 2.3030612468719482, 2.303051710128784, 2.303054094314575, 2.303040027618408, 2.3030290603637695, 2.303018569946289, 2.3030076026916504, 2.303016424179077, 2.3030316829681396, 2.3030104637145996, 2.303015947341919, 2.302995204925537, 2.3029863834381104, 2.302987813949585, 2.3030097484588623, 2.303010940551758, 2.3029987812042236, 2.3029768466949463, 2.3029797077178955, 2.3029913902282715, 2.3029863834381104, 2.302980661392212, 2.3030002117156982, 2.303013801574707, 2.3030195236206055, 2.303004264831543, 2.303009033203125, 2.303006172180176, 2.303025245666504, 2.303025960922241, 2.3030166625976562, 2.3030173778533936, 2.3029966354370117, 2.3029870986938477, 2.302983283996582, 2.302981376647949, 2.302988052368164, 2.3030014038085938, 2.3029990196228027, 2.302989959716797, 2.3030054569244385, 2.3030080795288086, 2.3030192852020264, 2.303025245666504, 2.303025245666504, 2.303025245666504, 2.303025007247925, 2.303020477294922, 2.303025960922241, 2.3030266761779785, 2.3030266761779785, 2.303018569946289, 2.3030238151550293, 2.3030343055725098, 2.3030147552490234, 2.3029963970184326, 2.3029918670654297, 2.30298113822937, 2.302982807159424, 2.302999258041382, 2.303014039993286, 2.303006887435913, 2.3030190467834473, 2.3030238151550293, 2.303025960922241, 2.3030288219451904, 2.303025007247925, 2.3030238151550293, 2.3030269145965576, 2.303025484085083, 2.3030290603637695, 2.303036689758301, 2.3030388355255127, 2.303032636642456, 2.30303692817688, 2.3030338287353516, 2.3030357360839844, 2.303043842315674, 2.3030455112457275, 2.3030452728271484, 2.3030455112457275, 2.3030474185943604, 2.303049325942993, 2.303049087524414, 2.303048849105835, 2.303051471710205, 2.3030476570129395, 2.3030476570129395, 2.302509069442749, 2.3025131225585938, 2.3022375106811523, 2.3022825717926025, 2.302649736404419, 2.3024206161499023, 2.302332639694214, 2.3024871349334717, 2.302353858947754, 2.3024003505706787, 2.302687644958496, 2.302849531173706, 2.302772283554077, 2.302919626235962, 2.3029603958129883, 2.302899122238159, 2.3029773235321045, 2.3029704093933105, 2.3029630184173584, 2.3029544353485107, 2.3027870655059814, 2.3027851581573486, 2.30275559425354, 2.3027284145355225, 2.3027122020721436, 2.3027124404907227, 2.302734136581421, 2.3027708530426025, 2.302741527557373, 2.302720546722412, 2.302668809890747, 2.302743673324585, 2.302778720855713, 2.302852153778076, 2.3029098510742188, 2.302870988845825, 2.302870512008667, 2.302855968475342, 2.3028619289398193, 2.3028969764709473, 2.3028879165649414, 2.3028788566589355, 2.302830457687378, 2.3028619289398193, 2.302884101867676, 2.3028979301452637, 2.3029110431671143, 2.3029062747955322, 2.3028786182403564, 2.302854537963867, 2.3028368949890137, 2.302889108657837, 2.3028998374938965, 2.3028783798217773, 2.302896499633789, 2.302903652191162, 2.302861452102661, 2.302861452102661, 2.302854299545288, 2.302882194519043, 2.3028616905212402, 2.3028316497802734, 2.302839756011963, 2.3027853965759277, 2.3027923107147217, 2.302743434906006, 2.3027472496032715, 2.3027939796447754, 2.3028719425201416, 2.3028481006622314, 2.3028383255004883, 2.302804708480835, 2.3028006553649902, 2.302798271179199, 2.302793264389038, 2.30277943611145, 2.3027985095977783, 2.302809000015259, 2.302790641784668, 2.302788734436035, 2.3027844429016113, 2.3028206825256348, 2.302802324295044, 2.302797794342041, 2.302814245223999, 2.302779197692871, 2.3027725219726562, 2.3028409481048584, 2.3028812408447266, 2.302875280380249, 2.3028578758239746, 2.302825689315796, 2.3028316497802734, 2.3028526306152344, 2.3028483390808105, 2.3028452396392822, 2.3028616905212402, 2.3028597831726074, 2.3028836250305176, 2.3029069900512695, 2.302901268005371, 2.302906036376953, 2.30291485786438, 2.302924633026123, 2.302908182144165, 2.3029353618621826, 2.3029298782348633, 2.3029234409332275, 2.302910089492798, 2.3029074668884277, 2.302910327911377, 2.30291748046875, 2.302919864654541, 2.302921772003174, 2.3029227256774902, 2.3029308319091797, 2.302928924560547, 2.3029415607452393, 2.3029329776763916, 2.302922010421753, 2.3029098510742188, 2.302899122238159, 2.3028886318206787, 2.30287766456604, 2.3028619289398193, 2.3028738498687744, 2.302854061126709, 2.3028616905212402, 2.302863836288452, 2.3028452396392822, 2.30285906791687, 2.302851438522339, 2.302886724472046, 2.30287766456604, 2.3028647899627686, 2.3028643131256104, 2.3028671741485596, 2.3028738498687744, 2.3029074668884277, 2.3029186725616455, 2.3029284477233887, 2.3029239177703857, 2.3029184341430664, 2.3029184341430664, 2.3029210567474365, 2.3029301166534424, 2.3029303550720215, 2.302929162979126, 2.3029403686523438, 2.3029446601867676, 2.3029518127441406, 2.3029515743255615, 2.302942991256714, 2.302936315536499, 2.3029422760009766, 2.30293869972229, 2.3029463291168213, 2.3029425144195557, 2.302926540374756, 2.3029255867004395, 2.3029282093048096, 2.3029260635375977, 2.3029229640960693, 2.3029167652130127, 2.302922010421753, 2.3029122352600098, 2.3029093742370605, 2.302929162979126, 2.3029227256774902, 2.302924394607544, 2.3029162883758545, 2.3029122352600098, 2.3029158115386963, 2.302910566329956, 2.302910566329956, 2.3029069900512695, 2.302900791168213, 2.3028993606567383, 2.3028788566589355, 2.3029000759124756, 2.3029050827026367, 2.3029041290283203, 2.3028969764709473, 2.3029112815856934, 2.302915096282959, 2.302908182144165, 2.302901268005371, 2.3028905391693115, 2.306135654449463, 2.304293632507324, 2.303500175476074, 2.30242657661438, 2.3021578788757324, 2.3028831481933594, 2.302510976791382, 2.302633047103882, 2.30307936668396, 2.3031344413757324, 2.3031039237976074, 2.303248643875122, 2.303182363510132, 2.3033032417297363, 2.3032243251800537, 2.3032000064849854, 2.303361177444458, 2.303358793258667, 2.3034214973449707, 2.303511142730713, 2.3034555912017822, 2.3033902645111084, 2.3033804893493652, 2.303309202194214, 2.303217887878418, 2.303168773651123, 2.303067922592163, 2.3030645847320557, 2.303074836730957, 2.3029932975769043, 2.302987575531006, 2.3030569553375244, 2.3029980659484863, 2.303009271621704, 2.3031046390533447, 2.3030014038085938, 2.303006172180176, 2.302954912185669, 2.302947759628296, 2.3029463291168213, 2.3029062747955322, 2.3029048442840576, 2.302845001220703, 2.3028833866119385, 2.302868127822876, 2.3028433322906494, 2.302894353866577, 2.3028674125671387, 2.302975654602051, 2.3030097484588623, 2.3029861450195312, 2.3030238151550293, 2.3030543327331543, 2.303046941757202, 2.3030450344085693, 2.3030436038970947, 2.3029944896698, 2.3029913902282715, 2.3029818534851074, 2.3029799461364746, 2.303025484085083, 2.3030507564544678, 2.303041458129883, 2.303042411804199, 2.303056478500366, 2.3030922412872314, 2.3030693531036377, 2.3030543327331543, 2.3030664920806885, 2.3030707836151123, 2.3030741214752197, 2.303067922592163, 2.30307936668396, 2.3030688762664795, 2.3030810356140137, 2.303067684173584, 2.3030660152435303, 2.303086996078491, 2.303081750869751, 2.303093433380127, 2.303076982498169, 2.303083658218384, 2.303090810775757, 2.3030922412872314, 2.303084373474121, 2.303098201751709, 2.3030951023101807, 2.3030881881713867, 2.303096055984497, 2.3030893802642822, 2.303069591522217, 2.3030736446380615, 2.3030648231506348, 2.303056240081787, 2.3030800819396973, 2.3030717372894287, 2.3030667304992676, 2.303058624267578, 2.3030688762664795, 2.3030569553375244, 2.3030381202697754, 2.303030490875244, 2.3030381202697754, 2.303049325942993, 2.303091049194336, 2.303089141845703, 2.3030989170074463, 2.3030929565429688, 2.303084135055542, 2.3030714988708496, 2.3030688762664795, 2.3030848503112793, 2.3031013011932373, 2.303105115890503, 2.303100109100342, 2.3031015396118164, 2.303098440170288, 2.303100824356079, 2.3030991554260254, 2.3030879497528076, 2.303090810775757, 2.3030974864959717, 2.3030917644500732, 2.3030946254730225, 2.303086757659912, 2.303067684173584, 2.3030483722686768, 2.3030519485473633, 2.3030524253845215, 2.3030612468719482, 2.3030571937561035, 2.30306339263916, 2.303070306777954, 2.3030664920806885, 2.3030636310577393, 2.3030545711517334, 2.30303955078125, 2.3030245304107666, 2.3030011653900146, 2.3029894828796387, 2.3029985427856445, 2.3030033111572266, 2.3029987812042236, 2.302993059158325, 2.302992343902588, 2.3029770851135254, 2.302990674972534, 2.3030028343200684, 2.3029773235321045, 2.302959680557251, 2.3029632568359375, 2.3030011653900146, 2.3030033111572266, 2.3030080795288086, 2.303002119064331, 2.303009510040283, 2.303027391433716, 2.303030252456665, 2.30301833152771, 2.3030152320861816, 2.3030178546905518, 2.303018808364868, 2.302996873855591, 2.303006649017334, 2.3030176162719727, 2.303004503250122, 2.3030078411102295, 2.303011655807495, 2.3030073642730713, 2.303025960922241, 2.3030309677124023, 2.303025484085083, 2.3030307292938232, 2.303022623062134, 2.3030195236206055, 2.3030142784118652, 2.303008794784546, 2.3029985427856445, 2.3030033111572266, 2.303016185760498, 2.3030171394348145, 2.303015947341919, 2.3030097484588623, 2.3030080795288086, 2.3030054569244385, 2.302996873855591, 2.303006410598755, 2.303013563156128, 2.2995400428771973, 2.3011977672576904, 2.3024513721466064, 2.302884817123413, 2.3028347492218018, 2.3027920722961426, 2.3028552532196045, 2.302593231201172, 2.3027420043945312, 2.302783250808716, 2.3028275966644287, 2.302874803543091, 2.3028664588928223, 2.3027560710906982, 2.3028533458709717, 2.3028907775878906, 2.302891731262207, 2.302957773208618, 2.302971124649048, 2.3028738498687744, 2.302716016769409, 2.302550792694092, 2.3026747703552246, 2.302744150161743, 2.3028066158294678, 2.302762031555176, 2.3029024600982666, 2.3028619289398193, 2.3028206825256348, 2.3027775287628174, 2.3027772903442383, 2.3027899265289307, 2.302694797515869, 2.3027820587158203, 2.302839517593384, 2.302888870239258, 2.3028454780578613, 2.302778482437134, 2.3028881549835205, 2.3029263019561768, 2.3028929233551025, 2.302846670150757, 2.3028242588043213, 2.3027937412261963, 2.3028032779693604, 2.3028011322021484, 2.302783250808716, 2.3028531074523926, 2.3028130531311035, 2.3028252124786377, 2.302825927734375, 2.3028953075408936, 2.302933692932129, 2.3029513359069824, 2.302931547164917, 2.3029119968414307, 2.3029160499572754, 2.3029096126556396, 2.3029370307922363, 2.302931308746338, 2.302955389022827, 2.3029608726501465, 2.302978515625, 2.3029613494873047, 2.302959442138672, 2.302962303161621, 2.3029396533966064, 2.3029556274414062, 2.3029491901397705, 2.3029255867004395, 2.3028886318206787, 2.3028643131256104, 2.3028740882873535, 2.302851438522339, 2.302853584289551, 2.3028602600097656, 2.3028507232666016, 2.302824020385742, 2.3028371334075928, 2.3028595447540283, 2.3028528690338135, 2.3028695583343506, 2.302908182144165, 2.3029062747955322, 2.302924394607544, 2.3028979301452637, 2.302899122238159, 2.302928924560547, 2.3029353618621826, 2.302938461303711, 2.3029284477233887, 2.3029415607452393, 2.3029298782348633, 2.3029191493988037, 2.302927255630493, 2.30293869972229, 2.302945852279663, 2.30294132232666, 2.302947759628296, 2.3029556274414062, 2.3029534816741943, 2.30295991897583, 2.3029613494873047, 2.302957773208618, 2.3029537200927734, 2.3029651641845703, 2.3029608726501465, 2.3029584884643555, 2.302954912185669, 2.3029541969299316, 2.302945613861084, 2.3029255867004395, 2.3029208183288574, 2.3029189109802246, 2.302907705307007, 2.3029305934906006, 2.302940845489502, 2.302938938140869, 2.302934408187866, 2.3029253482818604, 2.3029301166534424, 2.3029022216796875, 2.302906036376953, 2.302905559539795, 2.302924633026123, 2.302929639816284, 2.3029251098632812, 2.3029043674468994, 2.3029329776763916, 2.3029215335845947, 2.3029086589813232, 2.302915334701538, 2.302910566329956, 2.3029258251190186, 2.3029417991638184, 2.3029422760009766, 2.3029332160949707, 2.3029117584228516, 2.3029162883758545, 2.3029251098632812, 2.3029422760009766, 2.3029558658599854, 2.3029582500457764, 2.3029637336730957, 2.302966356277466, 2.302971363067627, 2.3029696941375732, 2.302967071533203, 2.302968740463257, 2.3029637336730957, 2.3029680252075195, 2.3029637336730957, 2.3029608726501465, 2.3029532432556152, 2.302953004837036, 2.302945852279663, 2.3029654026031494, 2.3029634952545166, 2.3029582500457764, 2.3029727935791016, 2.3029751777648926, 2.3029730319976807, 2.302980661392212, 2.3029849529266357, 2.3029842376708984, 2.3029797077178955, 2.302976608276367, 2.30298113822937, 2.3029825687408447, 2.302988290786743, 2.3029794692993164, 2.3029861450195312, 2.3029775619506836, 2.3029775619506836, 2.3029699325561523, 2.302980661392212, 2.3029725551605225, 2.3029630184173584, 2.3029775619506836, 2.3029863834381104, 2.3029913902282715, 2.3029935359954834, 2.302987813949585, 2.302997350692749, 2.302994966506958, 2.3029839992523193, 2.302980661392212, 2.302980899810791, 2.303246021270752, 2.302628993988037, 2.302940607070923, 2.303546905517578, 2.303403854370117, 2.30303955078125, 2.3030269145965576, 2.303340435028076, 2.303523302078247, 2.3033604621887207, 2.3032021522521973, 2.3031704425811768, 2.3032357692718506, 2.3031933307647705, 2.3032994270324707, 2.3033130168914795, 2.303276538848877, 2.3032279014587402, 2.303176164627075, 2.3030595779418945, 2.303102970123291, 2.303115129470825, 2.3031599521636963, 2.30316424369812, 2.3031020164489746, 2.3031394481658936, 2.3031413555145264, 2.303204298019409, 2.303115129470825, 2.303098201751709, 2.3030593395233154, 2.3030519485473633, 2.303041934967041, 2.303048610687256, 2.3030548095703125, 2.3030903339385986, 2.3030054569244385, 2.302990674972534, 2.3030412197113037, 2.3030591011047363, 2.3030197620391846, 2.303054094314575, 2.303074359893799, 2.3031249046325684, 2.3031251430511475, 2.3031158447265625, 2.303129196166992, 2.303142786026001, 2.3031177520751953, 2.3031058311462402, 2.3030710220336914, 2.3031435012817383, 2.3031601905822754, 2.303135871887207, 2.30314040184021, 2.3031327724456787, 2.30317759513855, 2.3031466007232666, 2.3031599521636963, 2.3031575679779053, 2.3031513690948486, 2.3031623363494873, 2.303148031234741, 2.303152561187744, 2.3031704425811768, 2.303154945373535, 2.3031537532806396, 2.3031630516052246, 2.303159713745117, 2.3031692504882812, 2.303187131881714, 2.3031814098358154, 2.3031787872314453, 2.303168535232544, 2.3031840324401855, 2.3031461238861084, 2.3031249046325684, 2.3031182289123535, 2.303115129470825, 2.303114414215088, 2.303128480911255, 2.3031044006347656, 2.303091287612915, 2.303068161010742, 2.3030660152435303, 2.3030190467834473, 2.303025245666504, 2.3029825687408447, 2.302992582321167, 2.3030035495758057, 2.3030002117156982, 2.3029608726501465, 2.302981376647949, 2.3029916286468506, 2.3029747009277344, 2.3029468059539795, 2.302985191345215, 2.302976608276367, 2.302980899810791, 2.3029885292053223, 2.302992105484009, 2.3030059337615967, 2.3030221462249756, 2.3030028343200684, 2.3029916286468506, 2.3030195236206055, 2.3030283451080322, 2.3030145168304443, 2.3030383586883545, 2.3030571937561035, 2.3030648231506348, 2.3030812740325928, 2.3030900955200195, 2.3030920028686523, 2.303088426589966, 2.303082227706909, 2.3030736446380615, 2.303086042404175, 2.3030874729156494, 2.303084373474121, 2.303089141845703, 2.3030812740325928, 2.3030576705932617, 2.303041934967041, 2.303048610687256, 2.3030507564544678, 2.303034543991089, 2.303032159805298, 2.3030240535736084, 2.303043842315674, 2.3030459880828857, 2.303042411804199, 2.3030388355255127, 2.303034543991089, 2.3030383586883545, 2.3030290603637695, 2.3030178546905518, 2.3030121326446533, 2.3030002117156982, 2.303028106689453, 2.3030266761779785, 2.303037405014038, 2.3030378818511963, 2.3030500411987305, 2.3030588626861572, 2.3030591011047363, 2.30306339263916, 2.3030567169189453, 2.303060531616211, 2.303060531616211, 2.3030500411987305, 2.303054094314575, 2.3030567169189453, 2.3030524253845215, 2.303037166595459, 2.303032398223877, 2.3030245304107666, 2.303010940551758, 2.3030190467834473, 2.3030123710632324, 2.3030123710632324, 2.303006410598755, 2.3030147552490234, 2.303009510040283, 2.3029985427856445, 2.3030142784118652, 2.302999973297119, 2.3030073642730713, 2.3029966354370117, 2.303004026412964, 2.303009271621704, 2.303011417388916, 2.303013801574707, 2.303001642227173, 2.3029940128326416, 2.3029985427856445, 2.3029887676239014, 2.3029775619506836, 2.3029801845550537, 2.303001642227173, 2.3030076026916504, 2.3030009269714355, 2.3029911518096924, 2.302985191345215, 2.302978277206421, 2.302990198135376, 2.3029873371124268, 2.3030054569244385, 2.306631326675415, 2.3049445152282715, 2.304255247116089, 2.303499698638916, 2.303544521331787, 2.3035213947296143, 2.3030788898468018, 2.302980899810791, 2.303264617919922, 2.3028969764709473, 2.3028247356414795, 2.302921772003174, 2.303062915802002, 2.303093194961548, 2.302980661392212, 2.302870035171509, 2.302863359451294, 2.302922010421753, 2.3029444217681885, 2.3029677867889404, 2.3029935359954834, 2.3030097484588623, 2.3031342029571533, 2.30306339263916, 2.3030436038970947, 2.302994728088379, 2.3030855655670166, 2.303013563156128, 2.303051710128784, 2.3030245304107666, 2.303018093109131, 2.303041458129883, 2.3030123710632324, 2.302992582321167, 2.302961587905884, 2.3029394149780273, 2.302886486053467, 2.302835464477539, 2.3027985095977783, 2.302858829498291, 2.3028628826141357, 2.3028886318206787, 2.3028602600097656, 2.3028571605682373, 2.3028767108917236, 2.302866220474243, 2.3029181957244873, 2.3029205799102783, 2.3028831481933594, 2.302901029586792, 2.3029346466064453, 2.3029510974884033, 2.302974224090576, 2.3029587268829346, 2.3029298782348633, 2.302933931350708, 2.302952766418457, 2.3029606342315674, 2.3029370307922363, 2.3029696941375732, 2.3029870986938477, 2.302985429763794, 2.302966594696045, 2.3029682636260986, 2.302938938140869, 2.302886724472046, 2.3028321266174316, 2.3028407096862793, 2.3028221130371094, 2.302835464477539, 2.3028204441070557, 2.3028459548950195, 2.302841901779175, 2.302859306335449, 2.302868127822876, 2.3028483390808105, 2.3027968406677246, 2.302785634994507, 2.3028101921081543, 2.302839756011963, 2.3028721809387207, 2.302891254425049, 2.3028831481933594, 2.3028464317321777, 2.302879810333252, 2.3029072284698486, 2.302932024002075, 2.3029305934906006, 2.3029091358184814, 2.3029420375823975, 2.3029088973999023, 2.302924156188965, 2.302889823913574, 2.3028886318206787, 2.3028564453125, 2.3028488159179688, 2.302873134613037, 2.3028388023376465, 2.3028151988983154, 2.3027970790863037, 2.302790641784668, 2.302778482437134, 2.302791118621826, 2.3027777671813965, 2.3027453422546387, 2.3027853965759277, 2.3027846813201904, 2.3028206825256348, 2.3028314113616943, 2.302835702896118, 2.302851915359497, 2.302828073501587, 2.302821159362793, 2.3028464317321777, 2.3028738498687744, 2.3028693199157715, 2.3028454780578613, 2.3028547763824463, 2.302870512008667, 2.302887439727783, 2.302889347076416, 2.3028669357299805, 2.302884101867676, 2.302882194519043, 2.3028745651245117, 2.302865505218506, 2.302873373031616, 2.3028573989868164, 2.302860975265503, 2.3028604984283447, 2.3028669357299805, 2.3028554916381836, 2.3028600215911865, 2.3028626441955566, 2.302858591079712, 2.302851676940918, 2.302852153778076, 2.302842855453491, 2.3028411865234375, 2.302856683731079, 2.3028483390808105, 2.302866220474243, 2.302868127822876, 2.3028790950775146, 2.302886486053467, 2.30289626121521, 2.3029003143310547, 2.3028860092163086, 2.3028955459594727, 2.302902936935425, 2.3029000759124756, 2.3029043674468994, 2.3028900623321533, 2.3028910160064697, 2.3028995990753174, 2.302907705307007, 2.302899122238159, 2.3028976917266846, 2.3028953075408936, 2.302882432937622, 2.3028817176818848, 2.302870988845825, 2.3028934001922607, 2.302912473678589, 2.3029122352600098, 2.3029098510742188, 2.3029046058654785, 2.3028836250305176, 2.302870273590088, 2.3028578758239746, 2.3028628826141357, 2.302873373031616, 2.302873134613037, 2.3028833866119385, 2.3028900623321533, 2.3028907775878906, 2.302887439727783, 2.3028953075408936, 2.302900791168213, 2.302914619445801, 2.3029208183288574, 2.3029110431671143, 2.302915573120117, 2.302926540374756, 2.302919626235962, 2.3029167652130127, 2.302919864654541, 2.3029208183288574]\n"
          ]
        }
      ],
      "source": [
        "np.arange(len(history_sigmoid.losses))\n",
        "print(history_sigmoid.losses)"
      ]
    },
    {
      "cell_type": "code",
      "execution_count": 24,
      "metadata": {
        "colab": {
          "base_uri": "https://localhost:8080/",
          "height": 564
        },
        "id": "-6YbeQ72EzxC",
        "outputId": "05d4d6d6-624b-4b1d-d11a-811af4224197"
      },
      "outputs": [
        {
          "output_type": "display_data",
          "data": {
            "text/plain": [
              "<Figure size 1000x600 with 1 Axes>"
            ],
            "image/png": "[encoded data removed]"
          },
          "metadata": {}
        }
      ],
      "source": [
        "# Plot loss curves for all activation functions\n",
        "plt.figure(figsize=(10, 6))\n",
        "\n",
        "# Plotting loss for each activation function\n",
        "plt.plot(np.arange(len(history_sigmoid.losses)), history_sigmoid.losses, label='Sigmoid')\n",
        "plt.plot(np.arange(len(history_relu.losses)), history_relu.losses, label='ReLU')\n",
        "plt.plot(np.arange(len(history_elu.losses)), history_elu.losses, label='ELU')\n",
        "plt.plot(np.arange(len(history_selu.losses)), history_selu.losses, label='SELU')\n",
        "plt.plot(np.arange(len(history_gelu.losses)), history_gelu.losses, label='GELU')\n",
        "plt.plot(np.arange(len(history_tanh.losses)), history_tanh.losses, label='Tanh')\n",
        "\n",
        "# Add titles and labels\n",
        "plt.title('Losses for Various Activation Functions')\n",
        "plt.xlabel('Number of Batches')\n",
        "plt.ylabel('Loss')\n",
        "\n",
        "# Add a legend\n",
        "plt.legend(loc='best')\n",
        "\n",
        "# Show the plot\n",
        "plt.show()\n"
      ]
    },
    {
      "cell_type": "code",
      "execution_count": 25,
      "metadata": {
        "colab": {
          "base_uri": "https://localhost:8080/",
          "height": 0
        },
        "id": "KF-eovOZE47x",
        "outputId": "d4dd52ec-1f64-43c7-9487-b02a4e7b5dfd"
      },
      "outputs": [
        {
          "output_type": "stream",
          "name": "stdout",
          "text": [
            "[4.003971e-06, 3.857468e-06, 1.2078752e-05, 4.6095032e-05, 0.00024158724, 0.0010901471, 0.004313691, 0.03582255]\n",
            "[0.025240969, 0.022736445, 0.03185308, 0.033179495, 0.042152315, 0.03933845, 0.071158275, 0.13273409]\n"
          ]
        }
      ],
      "source": [
        "w_sigmoid = []\n",
        "w_relu = []\n",
        "for i in range(len(model_sigmoid.layers)):\n",
        " w_sigmoid.append(max(model_sigmoid.layers[i].get_weights()[1]))\n",
        " w_relu.append(max(model_relu.layers[i].get_weights()[1]))\n",
        "print(w_sigmoid)\n",
        "print(w_relu)"
      ]
    },
    {
      "cell_type": "code",
      "execution_count": 26,
      "metadata": {
        "colab": {
          "base_uri": "https://localhost:8080/",
          "height": 0
        },
        "id": "odedlcXjE9qc",
        "outputId": "c054782f-53f7-4e2b-b86c-34810437851f"
      },
      "outputs": [
        {
          "output_type": "stream",
          "name": "stdout",
          "text": [
            "8\n"
          ]
        }
      ],
      "source": [
        "print(len(model_sigmoid.layers))"
      ]
    }
  ],
  "metadata": {
    "colab": {
      "provenance": []
    },
    "kernelspec": {
      "display_name": "Python 3",
      "name": "python3"
    },
    "language_info": {
      "name": "python"
    }
  },
  "nbformat": 4,
  "nbformat_minor": 0
}